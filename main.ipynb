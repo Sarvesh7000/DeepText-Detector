{
  "nbformat": 4,
  "nbformat_minor": 0,
  "metadata": {
    "colab": {
      "provenance": []
    },
    "kernelspec": {
      "name": "python3",
      "display_name": "Python 3"
    },
    "language_info": {
      "name": "python"
    }
  },
  "cells": [
    {
      "cell_type": "code",
      "source": [
        "!sudo apt-get update -y\n",
        "!sudo apt-get install python3.7\n"
      ],
      "metadata": {
        "colab": {
          "base_uri": "https://localhost:8080/"
        },
        "id": "xndq8lJaDBnA",
        "outputId": "56bc765a-e73f-45ec-d73e-927563de3bdd"
      },
      "execution_count": null,
      "outputs": [
        {
          "output_type": "stream",
          "name": "stdout",
          "text": [
            "\r0% [Working]\r            \rHit:1 http://archive.ubuntu.com/ubuntu jammy InRelease\n",
            "\r0% [Connecting to security.ubuntu.com (185.125.190.83)] [Connected to cloud.r-p\r                                                                               \rGet:2 http://archive.ubuntu.com/ubuntu jammy-updates InRelease [128 kB]\n",
            "\r0% [2 InRelease 15.6 kB/128 kB 12%] [Connecting to security.ubuntu.com (185.125\r                                                                               \rHit:3 https://cloud.r-project.org/bin/linux/ubuntu jammy-cran40/ InRelease\n",
            "\r0% [2 InRelease 75.0 kB/128 kB 59%] [Waiting for headers] [Waiting for headers]\r0% [Waiting for headers] [Waiting for headers] [Waiting for headers] [Connected\r                                                                               \rHit:4 http://archive.ubuntu.com/ubuntu jammy-backports InRelease\n",
            "Get:5 http://security.ubuntu.com/ubuntu jammy-security InRelease [129 kB]\n",
            "Get:6 https://r2u.stat.illinois.edu/ubuntu jammy InRelease [6,555 B]\n",
            "Hit:7 https://developer.download.nvidia.com/compute/cuda/repos/ubuntu2204/x86_64  InRelease\n",
            "Hit:8 https://ppa.launchpadcontent.net/deadsnakes/ppa/ubuntu jammy InRelease\n",
            "Hit:9 https://ppa.launchpadcontent.net/graphics-drivers/ppa/ubuntu jammy InRelease\n",
            "Hit:10 https://ppa.launchpadcontent.net/ubuntugis/ppa/ubuntu jammy InRelease\n",
            "Get:11 https://r2u.stat.illinois.edu/ubuntu jammy/main amd64 Packages [2,665 kB]\n",
            "Get:12 https://r2u.stat.illinois.edu/ubuntu jammy/main all Packages [8,713 kB]\n",
            "Fetched 11.6 MB in 2s (5,971 kB/s)\n",
            "Reading package lists... Done\n",
            "W: Skipping acquire of configured file 'main/source/Sources' as repository 'https://r2u.stat.illinois.edu/ubuntu jammy InRelease' does not seem to provide it (sources.list entry misspelt?)\n",
            "Reading package lists... Done\n",
            "Building dependency tree... Done\n",
            "Reading state information... Done\n",
            "python3.7 is already the newest version (3.7.17-1+jammy1).\n",
            "0 upgraded, 0 newly installed, 0 to remove and 32 not upgraded.\n"
          ]
        }
      ]
    },
    {
      "cell_type": "code",
      "source": [
        "!sudo apt-get update -y\n",
        "!sudo apt-get install python3.10\n"
      ],
      "metadata": {
        "colab": {
          "base_uri": "https://localhost:8080/"
        },
        "id": "PljYW7VBDHZ0",
        "outputId": "9579f9bb-6fbb-4256-ec1b-1e6e52d74640"
      },
      "execution_count": null,
      "outputs": [
        {
          "output_type": "stream",
          "name": "stdout",
          "text": [
            "\r0% [Working]\r            \rHit:1 http://security.ubuntu.com/ubuntu jammy-security InRelease\n",
            "\r0% [Connecting to archive.ubuntu.com] [Connected to cloud.r-project.org (108.15\r                                                                               \rHit:2 https://cloud.r-project.org/bin/linux/ubuntu jammy-cran40/ InRelease\n",
            "\r0% [Connecting to archive.ubuntu.com] [Connected to r2u.stat.illinois.edu (192.\r                                                                               \rHit:3 https://developer.download.nvidia.com/compute/cuda/repos/ubuntu2204/x86_64  InRelease\n",
            "Hit:4 https://r2u.stat.illinois.edu/ubuntu jammy InRelease\n",
            "Hit:5 http://archive.ubuntu.com/ubuntu jammy InRelease\n",
            "Hit:6 http://archive.ubuntu.com/ubuntu jammy-updates InRelease\n",
            "Hit:7 http://archive.ubuntu.com/ubuntu jammy-backports InRelease\n",
            "Hit:8 https://ppa.launchpadcontent.net/deadsnakes/ppa/ubuntu jammy InRelease\n",
            "Hit:9 https://ppa.launchpadcontent.net/graphics-drivers/ppa/ubuntu jammy InRelease\n",
            "Hit:10 https://ppa.launchpadcontent.net/ubuntugis/ppa/ubuntu jammy InRelease\n",
            "Reading package lists... Done\n",
            "W: Skipping acquire of configured file 'main/source/Sources' as repository 'https://r2u.stat.illinois.edu/ubuntu jammy InRelease' does not seem to provide it (sources.list entry misspelt?)\n",
            "Reading package lists... Done\n",
            "Building dependency tree... Done\n",
            "Reading state information... Done\n",
            "python3.10 is already the newest version (3.10.12-1~22.04.9).\n",
            "0 upgraded, 0 newly installed, 0 to remove and 32 not upgraded.\n"
          ]
        }
      ]
    },
    {
      "cell_type": "code",
      "source": [
        "!sudo update-alternatives --install /usr/bin/python3 python3 /usr/bin/python3.7 1\n",
        "!sudo update-alternatives --config python3\n"
      ],
      "metadata": {
        "colab": {
          "base_uri": "https://localhost:8080/"
        },
        "id": "KSpd_VSZDNhd",
        "outputId": "332dca97-cdd9-4a60-ac75-85691377e2b1"
      },
      "execution_count": null,
      "outputs": [
        {
          "output_type": "stream",
          "name": "stdout",
          "text": [
            "There are 3 choices for the alternative python3 (providing /usr/bin/python3).\n",
            "\n",
            "  Selection    Path                 Priority   Status\n",
            "------------------------------------------------------------\n",
            "  0            /usr/bin/python3.11   2         auto mode\n",
            "  1            /usr/bin/python3.10   1         manual mode\n",
            "  2            /usr/bin/python3.11   2         manual mode\n",
            "* 3            /usr/bin/python3.7    1         manual mode\n",
            "\n",
            "Press <enter> to keep the current choice[*], or type selection number: 3\n"
          ]
        }
      ]
    },
    {
      "cell_type": "code",
      "source": [
        "!sudo update-alternatives --install /usr/bin/python3 python3 /usr/bin/python3.10 1\n",
        "!sudo update-alternatives --config python3\n"
      ],
      "metadata": {
        "colab": {
          "base_uri": "https://localhost:8080/"
        },
        "id": "uY1sPFVIDlfq",
        "outputId": "83f825ea-9c2d-4a78-c11d-0bbb64a329ed"
      },
      "execution_count": null,
      "outputs": [
        {
          "output_type": "stream",
          "name": "stdout",
          "text": [
            "There are 3 choices for the alternative python3 (providing /usr/bin/python3).\n",
            "\n",
            "  Selection    Path                 Priority   Status\n",
            "------------------------------------------------------------\n",
            "  0            /usr/bin/python3.11   2         auto mode\n",
            "  1            /usr/bin/python3.10   1         manual mode\n",
            "  2            /usr/bin/python3.11   2         manual mode\n",
            "* 3            /usr/bin/python3.7    1         manual mode\n",
            "\n",
            "Press <enter> to keep the current choice[*], or type selection number: 1\n",
            "update-alternatives: using /usr/bin/python3.10 to provide /usr/bin/python3 (python3) in manual mode\n"
          ]
        }
      ]
    },
    {
      "cell_type": "code",
      "source": [
        "!python --version\n"
      ],
      "metadata": {
        "colab": {
          "base_uri": "https://localhost:8080/"
        },
        "id": "-vX5wrF0DqL4",
        "outputId": "7cfc7432-cb7a-47d8-facb-ebd42d04ea72"
      },
      "execution_count": null,
      "outputs": [
        {
          "output_type": "stream",
          "name": "stdout",
          "text": [
            "Python 3.10.12\n"
          ]
        }
      ]
    },
    {
      "cell_type": "code",
      "source": [
        "!python --version\n",
        "\n"
      ],
      "metadata": {
        "colab": {
          "base_uri": "https://localhost:8080/"
        },
        "id": "xVD4GeJBD_BA",
        "outputId": "bc1c9678-9134-472a-f749-8a8007d06fab"
      },
      "execution_count": null,
      "outputs": [
        {
          "output_type": "stream",
          "name": "stdout",
          "text": [
            "Python 3.10.12\n"
          ]
        }
      ]
    },
    {
      "cell_type": "code",
      "source": [
        "!pip install --upgrade mediapipe"
      ],
      "metadata": {
        "colab": {
          "base_uri": "https://localhost:8080/"
        },
        "id": "Oo4LXkrkEMDA",
        "outputId": "ad22afd9-4456-4f3e-994f-64e5fbdd24f0"
      },
      "execution_count": null,
      "outputs": [
        {
          "output_type": "stream",
          "name": "stdout",
          "text": [
            "Traceback (most recent call last):\n",
            "  File \"/usr/local/bin/pip3\", line 4, in <module>\n",
            "    from pip._internal.cli.main import main\n",
            "ModuleNotFoundError: No module named 'pip'\n"
          ]
        }
      ]
    },
    {
      "cell_type": "code",
      "source": [
        "import os\n",
        "import argparse\n",
        "\n",
        "import cv2\n",
        "import mediapipe as mp\n",
        "\n",
        "\n",
        "def process_img(img, face_detection):\n",
        "    \"\"\"\n",
        "    Processes an image to detect faces and apply blur.\n",
        "    \"\"\"\n",
        "    H, W, _ = img.shape\n",
        "\n",
        "    img_rgb = cv2.cvtColor(img, cv2.COLOR_BGR2RGB)\n",
        "    out = face_detection.process(img_rgb)\n",
        "\n",
        "    if out.detections is not None:\n",
        "        for detection in out.detections:\n",
        "            location_data = detection.location_data\n",
        "            bbox = location_data.relative_bounding_box\n",
        "\n",
        "            x1, y1, w, h = bbox.xmin, bbox.ymin, bbox.width, bbox.height\n",
        "\n",
        "            x1 = int(x1 * W)\n",
        "            y1 = int(y1 * H)\n",
        "            w = int(w * W)\n",
        "            h = int(h * H)\n",
        "\n",
        "            # blur faces\n",
        "            img[y1 : y1 + h, x1 : x1 + w, :] = cv2.blur(\n",
        "                img[y1 : y1 + h, x1 : x1 + w, :], (30, 30)\n",
        "            )\n",
        "\n",
        "    return img\n",
        "\n",
        "\n",
        "# --- Changes here ---\n",
        "# Instead of parsing command-line arguments, directly set the values:\n",
        "mode = 'webcam'  # or 'image' or 'video'\n",
        "file_path = None  # Provide path if mode is 'image' or 'video'\n",
        "# --- End of changes ---\n",
        "\n",
        "output_dir = \"./output\"\n",
        "if not os.path.exists(output_dir):\n",
        "    os.makedirs(output_dir)\n",
        "\n",
        "# detect faces\n",
        "mp_face_detection = mp.solutions.face_detection\n",
        "\n",
        "with mp_face_detection.FaceDetection(\n",
        "    model_selection=0, min_detection_confidence=0.5\n",
        ") as face_detection:\n",
        "\n",
        "    if mode in [\"image\"]:\n",
        "        # read image\n",
        "        img = cv2.imread(file_path)\n",
        "\n",
        "        img = process_img(img, face_detection)\n",
        "\n",
        "        # save image\n",
        "        cv2.imwrite(os.path.join(output_dir, \"output.png\"), img)\n",
        "\n",
        "    elif mode in [\"video\"]:\n",
        "\n",
        "        cap = cv2.VideoCapture(file_path)\n",
        "        ret, frame = cap.read()\n",
        "\n",
        "        output_video = cv2.VideoWriter(\n",
        "            os.path.join(output_dir, \"output.mp4\"),\n",
        "            cv2.VideoWriter_fourcc(*\"MP4V\"),\n",
        "            25,\n",
        "            (frame.shape[1], frame.shape[0]),\n",
        "        )\n",
        "\n",
        "        while ret:\n",
        "\n",
        "            frame = process_img(frame, face_detection)\n",
        "\n",
        "            output_video.write(frame)\n",
        "\n",
        "            ret, frame = cap.read()\n",
        "\n",
        "        cap.release()\n",
        "        output_video.release()\n",
        "\n",
        "    elif mode in [\"webcam\"]:\n",
        "        cap = cv2.VideoCapture(2)\n",
        "\n",
        "        ret, frame = cap.read()\n",
        "        while ret:\n",
        "            frame = process_img(frame, face_detection)\n",
        "\n",
        "            cv2.imshow(\"frame\", frame)\n",
        "            cv2.waitKey(25)\n",
        "\n",
        "            ret, frame = cap.read()\n",
        "\n",
        "        cap.release()"
      ],
      "metadata": {
        "id": "dAgaFvdWETAS"
      },
      "execution_count": null,
      "outputs": []
    }
  ]
}